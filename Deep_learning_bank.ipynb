{
 "cells": [
  {
   "cell_type": "code",
   "execution_count": 89,
   "metadata": {},
   "outputs": [],
   "source": [
    "import pandas as pd\n",
    "import matplotlib.pyplot as plt"
   ]
  },
  {
   "cell_type": "code",
   "execution_count": 65,
   "metadata": {},
   "outputs": [],
   "source": [
    "df= pd.read_csv('Churn_Modelling.csv')"
   ]
  },
  {
   "cell_type": "code",
   "execution_count": 66,
   "metadata": {},
   "outputs": [
    {
     "data": {
      "text/html": [
       "<div>\n",
       "<style scoped>\n",
       "    .dataframe tbody tr th:only-of-type {\n",
       "        vertical-align: middle;\n",
       "    }\n",
       "\n",
       "    .dataframe tbody tr th {\n",
       "        vertical-align: top;\n",
       "    }\n",
       "\n",
       "    .dataframe thead th {\n",
       "        text-align: right;\n",
       "    }\n",
       "</style>\n",
       "<table border=\"1\" class=\"dataframe\">\n",
       "  <thead>\n",
       "    <tr style=\"text-align: right;\">\n",
       "      <th></th>\n",
       "      <th>RowNumber</th>\n",
       "      <th>CustomerId</th>\n",
       "      <th>Surname</th>\n",
       "      <th>CreditScore</th>\n",
       "      <th>Geography</th>\n",
       "      <th>Gender</th>\n",
       "      <th>Age</th>\n",
       "      <th>Tenure</th>\n",
       "      <th>Balance</th>\n",
       "      <th>NumOfProducts</th>\n",
       "      <th>HasCrCard</th>\n",
       "      <th>IsActiveMember</th>\n",
       "      <th>EstimatedSalary</th>\n",
       "      <th>Exited</th>\n",
       "    </tr>\n",
       "  </thead>\n",
       "  <tbody>\n",
       "    <tr>\n",
       "      <th>0</th>\n",
       "      <td>1</td>\n",
       "      <td>15634602</td>\n",
       "      <td>Hargrave</td>\n",
       "      <td>619</td>\n",
       "      <td>France</td>\n",
       "      <td>Female</td>\n",
       "      <td>42</td>\n",
       "      <td>2</td>\n",
       "      <td>0.00</td>\n",
       "      <td>1</td>\n",
       "      <td>1</td>\n",
       "      <td>1</td>\n",
       "      <td>101348.88</td>\n",
       "      <td>1</td>\n",
       "    </tr>\n",
       "    <tr>\n",
       "      <th>1</th>\n",
       "      <td>2</td>\n",
       "      <td>15647311</td>\n",
       "      <td>Hill</td>\n",
       "      <td>608</td>\n",
       "      <td>Spain</td>\n",
       "      <td>Female</td>\n",
       "      <td>41</td>\n",
       "      <td>1</td>\n",
       "      <td>83807.86</td>\n",
       "      <td>1</td>\n",
       "      <td>0</td>\n",
       "      <td>1</td>\n",
       "      <td>112542.58</td>\n",
       "      <td>0</td>\n",
       "    </tr>\n",
       "    <tr>\n",
       "      <th>2</th>\n",
       "      <td>3</td>\n",
       "      <td>15619304</td>\n",
       "      <td>Onio</td>\n",
       "      <td>502</td>\n",
       "      <td>France</td>\n",
       "      <td>Female</td>\n",
       "      <td>42</td>\n",
       "      <td>8</td>\n",
       "      <td>159660.80</td>\n",
       "      <td>3</td>\n",
       "      <td>1</td>\n",
       "      <td>0</td>\n",
       "      <td>113931.57</td>\n",
       "      <td>1</td>\n",
       "    </tr>\n",
       "    <tr>\n",
       "      <th>3</th>\n",
       "      <td>4</td>\n",
       "      <td>15701354</td>\n",
       "      <td>Boni</td>\n",
       "      <td>699</td>\n",
       "      <td>France</td>\n",
       "      <td>Female</td>\n",
       "      <td>39</td>\n",
       "      <td>1</td>\n",
       "      <td>0.00</td>\n",
       "      <td>2</td>\n",
       "      <td>0</td>\n",
       "      <td>0</td>\n",
       "      <td>93826.63</td>\n",
       "      <td>0</td>\n",
       "    </tr>\n",
       "    <tr>\n",
       "      <th>4</th>\n",
       "      <td>5</td>\n",
       "      <td>15737888</td>\n",
       "      <td>Mitchell</td>\n",
       "      <td>850</td>\n",
       "      <td>Spain</td>\n",
       "      <td>Female</td>\n",
       "      <td>43</td>\n",
       "      <td>2</td>\n",
       "      <td>125510.82</td>\n",
       "      <td>1</td>\n",
       "      <td>1</td>\n",
       "      <td>1</td>\n",
       "      <td>79084.10</td>\n",
       "      <td>0</td>\n",
       "    </tr>\n",
       "  </tbody>\n",
       "</table>\n",
       "</div>"
      ],
      "text/plain": [
       "   RowNumber  CustomerId   Surname  CreditScore Geography  Gender  Age  \\\n",
       "0          1    15634602  Hargrave          619    France  Female   42   \n",
       "1          2    15647311      Hill          608     Spain  Female   41   \n",
       "2          3    15619304      Onio          502    France  Female   42   \n",
       "3          4    15701354      Boni          699    France  Female   39   \n",
       "4          5    15737888  Mitchell          850     Spain  Female   43   \n",
       "\n",
       "   Tenure    Balance  NumOfProducts  HasCrCard  IsActiveMember  \\\n",
       "0       2       0.00              1          1               1   \n",
       "1       1   83807.86              1          0               1   \n",
       "2       8  159660.80              3          1               0   \n",
       "3       1       0.00              2          0               0   \n",
       "4       2  125510.82              1          1               1   \n",
       "\n",
       "   EstimatedSalary  Exited  \n",
       "0        101348.88       1  \n",
       "1        112542.58       0  \n",
       "2        113931.57       1  \n",
       "3         93826.63       0  \n",
       "4         79084.10       0  "
      ]
     },
     "execution_count": 66,
     "metadata": {},
     "output_type": "execute_result"
    }
   ],
   "source": [
    "df.head()"
   ]
  },
  {
   "cell_type": "code",
   "execution_count": 67,
   "metadata": {},
   "outputs": [],
   "source": [
    "X= df.iloc[:, 3:13]\n",
    "Y= df.iloc[:, 13]"
   ]
  },
  {
   "cell_type": "markdown",
   "metadata": {},
   "source": [
    "## Create dummy valriables"
   ]
  },
  {
   "cell_type": "code",
   "execution_count": 70,
   "metadata": {
    "scrolled": true
   },
   "outputs": [],
   "source": [
    "geography= pd.get_dummies(df['Geography'],drop_first=True)\n",
    "gender= pd.get_dummies(df['Gender'],drop_first=True)"
   ]
  },
  {
   "cell_type": "code",
   "execution_count": 71,
   "metadata": {},
   "outputs": [],
   "source": [
    "X= pd.concat([X,geography,gender],axis=1)"
   ]
  },
  {
   "cell_type": "code",
   "execution_count": 72,
   "metadata": {},
   "outputs": [],
   "source": [
    "X= X.drop(['Geography','Gender'],axis=1)"
   ]
  },
  {
   "cell_type": "markdown",
   "metadata": {},
   "source": [
    "### train test split"
   ]
  },
  {
   "cell_type": "code",
   "execution_count": 73,
   "metadata": {
    "scrolled": true
   },
   "outputs": [],
   "source": [
    "from sklearn.model_selection import train_test_split\n",
    "X_train,X_test,Y_train,Y_test= train_test_split(X,Y, test_size= 0.2, random_state= 0)"
   ]
  },
  {
   "cell_type": "markdown",
   "metadata": {},
   "source": [
    "### Feature scaling"
   ]
  },
  {
   "cell_type": "code",
   "execution_count": 74,
   "metadata": {},
   "outputs": [],
   "source": [
    "from sklearn.preprocessing import StandardScaler\n",
    "scaler= StandardScaler()\n",
    "X_train= scaler.fit_transform(X_train)\n",
    "X_test=scaler.transform(X_test)"
   ]
  },
  {
   "cell_type": "code",
   "execution_count": null,
   "metadata": {
    "scrolled": true
   },
   "outputs": [],
   "source": []
  },
  {
   "cell_type": "code",
   "execution_count": 76,
   "metadata": {},
   "outputs": [],
   "source": [
    "from keras.models import Sequential\n",
    "from keras.layers import Dense\n",
    "from keras.layers import LeakyReLU,PReLU,ELU\n",
    "from keras.layers import Dropout"
   ]
  },
  {
   "cell_type": "code",
   "execution_count": 77,
   "metadata": {},
   "outputs": [],
   "source": [
    "clasifier= Sequential()"
   ]
  },
  {
   "cell_type": "code",
   "execution_count": 78,
   "metadata": {},
   "outputs": [
    {
     "name": "stderr",
     "output_type": "stream",
     "text": [
      "/Users/anshulsharma/anaconda3/lib/python3.7/site-packages/ipykernel_launcher.py:1: UserWarning: Update your `Dense` call to the Keras 2 API: `Dense(activation=\"relu\", input_dim=11, units=6, kernel_initializer=\"he_uniform\")`\n",
      "  \"\"\"Entry point for launching an IPython kernel.\n"
     ]
    }
   ],
   "source": [
    "clasifier.add(Dense(output_dim= 6, init= 'he_uniform', activation= 'relu',input_dim=11))"
   ]
  },
  {
   "cell_type": "markdown",
   "metadata": {},
   "source": [
    "### warning because it says that Keras has updated and name of output_dim, and init has been changed. "
   ]
  },
  {
   "cell_type": "code",
   "execution_count": 101,
   "metadata": {},
   "outputs": [],
   "source": [
    "clasifier.add(Dense(units= 10, kernel_initializer= 'he_uniform', activation= 'relu',input_dim=11))"
   ]
  },
  {
   "cell_type": "code",
   "execution_count": 102,
   "metadata": {},
   "outputs": [],
   "source": [
    "clasifier.add(Dense(units= 20, kernel_initializer= 'he_uniform', activation= 'relu'))"
   ]
  },
  {
   "cell_type": "code",
   "execution_count": 103,
   "metadata": {},
   "outputs": [],
   "source": [
    "clasifier.add(Dense(units= 15, kernel_initializer= 'he_uniform', activation= 'relu',input_dim=11))"
   ]
  },
  {
   "cell_type": "code",
   "execution_count": 121,
   "metadata": {},
   "outputs": [],
   "source": [
    "clasifier.add(Dense(units= 1, kernel_initializer= 'glorot_uniform', activation= 'relu'))"
   ]
  },
  {
   "cell_type": "code",
   "execution_count": 122,
   "metadata": {},
   "outputs": [
    {
     "name": "stdout",
     "output_type": "stream",
     "text": [
      "Model: \"sequential_3\"\n",
      "_________________________________________________________________\n",
      "Layer (type)                 Output Shape              Param #   \n",
      "=================================================================\n",
      "dense_14 (Dense)             (None, 6)                 72        \n",
      "_________________________________________________________________\n",
      "dense_15 (Dense)             (None, 6)                 42        \n",
      "_________________________________________________________________\n",
      "dense_16 (Dense)             (None, 6)                 42        \n",
      "_________________________________________________________________\n",
      "dense_17 (Dense)             (None, 6)                 42        \n",
      "_________________________________________________________________\n",
      "dense_18 (Dense)             (None, 1)                 7         \n",
      "_________________________________________________________________\n",
      "dense_19 (Dense)             (None, 10)                20        \n",
      "_________________________________________________________________\n",
      "dense_20 (Dense)             (None, 20)                220       \n",
      "_________________________________________________________________\n",
      "dense_21 (Dense)             (None, 15)                315       \n",
      "_________________________________________________________________\n",
      "dense_22 (Dense)             (None, 1)                 16        \n",
      "_________________________________________________________________\n",
      "dense_23 (Dense)             (None, 1)                 2         \n",
      "=================================================================\n",
      "Total params: 776\n",
      "Trainable params: 776\n",
      "Non-trainable params: 0\n",
      "_________________________________________________________________\n"
     ]
    },
    {
     "name": "stderr",
     "output_type": "stream",
     "text": [
      "/Users/anshulsharma/anaconda3/lib/python3.7/site-packages/keras/engine/training.py:297: UserWarning: Discrepancy between trainable weights and collected trainable weights, did you set `model.trainable` without calling `model.compile` after ?\n",
      "  'Discrepancy between trainable weights and collected trainable'\n"
     ]
    }
   ],
   "source": [
    "clasifier.summary()"
   ]
  },
  {
   "cell_type": "code",
   "execution_count": 123,
   "metadata": {},
   "outputs": [],
   "source": [
    "clasifier.compile(optimizer='adam',loss='binary_crossentropy',metrics=['accuracy'])"
   ]
  },
  {
   "cell_type": "code",
   "execution_count": 124,
   "metadata": {},
   "outputs": [
    {
     "name": "stdout",
     "output_type": "stream",
     "text": [
      "Train on 5359 samples, validate on 2641 samples\n",
      "Epoch 1/100\n",
      "5359/5359 [==============================] - 2s 371us/step - loss: 0.3323 - accuracy: 0.8668 - val_loss: 0.4029 - val_accuracy: 0.8546\n",
      "Epoch 2/100\n",
      "5359/5359 [==============================] - 1s 269us/step - loss: 0.3281 - accuracy: 0.8655 - val_loss: 0.4103 - val_accuracy: 0.8501\n",
      "Epoch 3/100\n",
      "5359/5359 [==============================] - 2s 299us/step - loss: 0.3221 - accuracy: 0.8660 - val_loss: 0.3725 - val_accuracy: 0.8531\n",
      "Epoch 4/100\n",
      "5359/5359 [==============================] - 2s 353us/step - loss: 0.3201 - accuracy: 0.8660 - val_loss: 0.3803 - val_accuracy: 0.8497\n",
      "Epoch 5/100\n",
      "5359/5359 [==============================] - 2s 309us/step - loss: 0.3207 - accuracy: 0.8656 - val_loss: 0.3690 - val_accuracy: 0.8466\n",
      "Epoch 6/100\n",
      "5359/5359 [==============================] - 2s 296us/step - loss: 0.3208 - accuracy: 0.8660 - val_loss: 0.3723 - val_accuracy: 0.8535\n",
      "Epoch 7/100\n",
      "5359/5359 [==============================] - 1s 267us/step - loss: 0.3250 - accuracy: 0.8673 - val_loss: 0.3725 - val_accuracy: 0.8508\n",
      "Epoch 8/100\n",
      "5359/5359 [==============================] - 2s 283us/step - loss: 0.3199 - accuracy: 0.8668 - val_loss: 0.3745 - val_accuracy: 0.8470\n",
      "Epoch 9/100\n",
      "5359/5359 [==============================] - 1s 263us/step - loss: 0.3228 - accuracy: 0.8651 - val_loss: 0.3716 - val_accuracy: 0.8546\n",
      "Epoch 10/100\n",
      "5359/5359 [==============================] - 2s 285us/step - loss: 0.3219 - accuracy: 0.8662 - val_loss: 0.3736 - val_accuracy: 0.8485\n",
      "Epoch 11/100\n",
      "5359/5359 [==============================] - 2s 310us/step - loss: 0.3217 - accuracy: 0.8668 - val_loss: 0.3689 - val_accuracy: 0.8478\n",
      "Epoch 12/100\n",
      "5359/5359 [==============================] - 2s 301us/step - loss: 0.3210 - accuracy: 0.8666 - val_loss: 0.3744 - val_accuracy: 0.8519\n",
      "Epoch 13/100\n",
      "5359/5359 [==============================] - 2s 312us/step - loss: 0.3209 - accuracy: 0.8647 - val_loss: 0.3712 - val_accuracy: 0.8489\n",
      "Epoch 14/100\n",
      "5359/5359 [==============================] - 2s 314us/step - loss: 0.3199 - accuracy: 0.8653 - val_loss: 0.3882 - val_accuracy: 0.8531\n",
      "Epoch 15/100\n",
      "5359/5359 [==============================] - 2s 285us/step - loss: 0.3205 - accuracy: 0.8649 - val_loss: 0.3979 - val_accuracy: 0.8485\n",
      "Epoch 16/100\n",
      "5359/5359 [==============================] - 2s 314us/step - loss: 0.3215 - accuracy: 0.8681 - val_loss: 0.3747 - val_accuracy: 0.8546\n",
      "Epoch 17/100\n",
      "5359/5359 [==============================] - 1s 257us/step - loss: 0.3194 - accuracy: 0.8658 - val_loss: 0.3971 - val_accuracy: 0.8523\n",
      "Epoch 18/100\n",
      "5359/5359 [==============================] - 1s 256us/step - loss: 0.3199 - accuracy: 0.8656 - val_loss: 0.3779 - val_accuracy: 0.8531\n",
      "Epoch 19/100\n",
      "5359/5359 [==============================] - 1s 258us/step - loss: 0.3196 - accuracy: 0.8671 - val_loss: 0.3702 - val_accuracy: 0.8489\n",
      "Epoch 20/100\n",
      "5359/5359 [==============================] - 1s 257us/step - loss: 0.3202 - accuracy: 0.8655 - val_loss: 0.3854 - val_accuracy: 0.8554\n",
      "Epoch 21/100\n",
      "5359/5359 [==============================] - 1s 257us/step - loss: 0.3196 - accuracy: 0.8640 - val_loss: 0.3814 - val_accuracy: 0.8478\n",
      "Epoch 22/100\n",
      "5359/5359 [==============================] - 1s 278us/step - loss: 0.3199 - accuracy: 0.8660 - val_loss: 0.3739 - val_accuracy: 0.8535\n",
      "Epoch 23/100\n",
      "5359/5359 [==============================] - 2s 285us/step - loss: 0.3198 - accuracy: 0.8655 - val_loss: 0.3720 - val_accuracy: 0.8527\n",
      "Epoch 24/100\n",
      "5359/5359 [==============================] - 1s 262us/step - loss: 0.3194 - accuracy: 0.8649 - val_loss: 0.3750 - val_accuracy: 0.8485\n",
      "Epoch 25/100\n",
      "5359/5359 [==============================] - 1s 255us/step - loss: 0.3200 - accuracy: 0.8668 - val_loss: 0.3923 - val_accuracy: 0.8531\n",
      "Epoch 26/100\n",
      "5359/5359 [==============================] - 1s 255us/step - loss: 0.3194 - accuracy: 0.8671 - val_loss: 0.3758 - val_accuracy: 0.8531\n",
      "Epoch 27/100\n",
      "5359/5359 [==============================] - 2s 283us/step - loss: 0.3199 - accuracy: 0.8655 - val_loss: 0.3812 - val_accuracy: 0.8576\n",
      "Epoch 28/100\n",
      "5359/5359 [==============================] - 2s 340us/step - loss: 0.3187 - accuracy: 0.8656 - val_loss: 0.3686 - val_accuracy: 0.8516\n",
      "Epoch 29/100\n",
      "5359/5359 [==============================] - 2s 327us/step - loss: 0.3181 - accuracy: 0.8666 - val_loss: 0.3874 - val_accuracy: 0.8535\n",
      "Epoch 30/100\n",
      "5359/5359 [==============================] - 2s 323us/step - loss: 0.3190 - accuracy: 0.8651 - val_loss: 0.3826 - val_accuracy: 0.8531\n",
      "Epoch 31/100\n",
      "5359/5359 [==============================] - 2s 291us/step - loss: 0.3197 - accuracy: 0.8671 - val_loss: 0.3921 - val_accuracy: 0.8535\n",
      "Epoch 32/100\n",
      "5359/5359 [==============================] - 2s 285us/step - loss: 0.3207 - accuracy: 0.8638 - val_loss: 0.3697 - val_accuracy: 0.8516\n",
      "Epoch 33/100\n",
      "5359/5359 [==============================] - 2s 289us/step - loss: 0.3199 - accuracy: 0.8662 - val_loss: 0.3812 - val_accuracy: 0.8512\n",
      "Epoch 34/100\n",
      "5359/5359 [==============================] - 2s 293us/step - loss: 0.3183 - accuracy: 0.8673 - val_loss: 0.3996 - val_accuracy: 0.8535\n",
      "Epoch 35/100\n",
      "5359/5359 [==============================] - 2s 292us/step - loss: 0.3182 - accuracy: 0.8660 - val_loss: 0.4174 - val_accuracy: 0.8523\n",
      "Epoch 36/100\n",
      "5359/5359 [==============================] - 2s 321us/step - loss: 0.3255 - accuracy: 0.8653 - val_loss: 0.3677 - val_accuracy: 0.8554\n",
      "Epoch 37/100\n",
      "5359/5359 [==============================] - 2s 334us/step - loss: 0.3197 - accuracy: 0.8668 - val_loss: 0.3731 - val_accuracy: 0.8542\n",
      "Epoch 38/100\n",
      "5359/5359 [==============================] - 2s 350us/step - loss: 0.3196 - accuracy: 0.8649 - val_loss: 0.3773 - val_accuracy: 0.8538\n",
      "Epoch 39/100\n",
      "5359/5359 [==============================] - 2s 328us/step - loss: 0.3186 - accuracy: 0.8656 - val_loss: 0.3877 - val_accuracy: 0.8538\n",
      "Epoch 40/100\n",
      "5359/5359 [==============================] - 2s 357us/step - loss: 0.3172 - accuracy: 0.8664 - val_loss: 0.3715 - val_accuracy: 0.8527\n",
      "Epoch 41/100\n",
      "5359/5359 [==============================] - 2s 298us/step - loss: 0.3175 - accuracy: 0.8647 - val_loss: 0.3858 - val_accuracy: 0.8527\n",
      "Epoch 42/100\n",
      "5359/5359 [==============================] - 2s 293us/step - loss: 0.3176 - accuracy: 0.8668 - val_loss: 0.3938 - val_accuracy: 0.8565\n",
      "Epoch 43/100\n",
      "5359/5359 [==============================] - 2s 295us/step - loss: 0.3172 - accuracy: 0.8664 - val_loss: 0.3955 - val_accuracy: 0.8546\n",
      "Epoch 44/100\n",
      "5359/5359 [==============================] - 2s 290us/step - loss: 0.3192 - accuracy: 0.8653 - val_loss: 0.3955 - val_accuracy: 0.8554\n",
      "Epoch 45/100\n",
      "5359/5359 [==============================] - 2s 288us/step - loss: 0.3192 - accuracy: 0.8647 - val_loss: 0.3691 - val_accuracy: 0.8519\n",
      "Epoch 46/100\n",
      "5359/5359 [==============================] - 2s 287us/step - loss: 0.3192 - accuracy: 0.8679 - val_loss: 0.3822 - val_accuracy: 0.8535\n",
      "Epoch 47/100\n",
      "5359/5359 [==============================] - 2s 288us/step - loss: 0.3180 - accuracy: 0.8656 - val_loss: 0.3718 - val_accuracy: 0.8531\n",
      "Epoch 48/100\n",
      "5359/5359 [==============================] - 2s 284us/step - loss: 0.3179 - accuracy: 0.8658 - val_loss: 0.3700 - val_accuracy: 0.8531\n",
      "Epoch 49/100\n",
      "5359/5359 [==============================] - 2s 288us/step - loss: 0.3189 - accuracy: 0.8647 - val_loss: 0.3836 - val_accuracy: 0.8527\n",
      "Epoch 50/100\n",
      "5359/5359 [==============================] - 2s 284us/step - loss: 0.3188 - accuracy: 0.8636 - val_loss: 0.3676 - val_accuracy: 0.8531\n",
      "Epoch 51/100\n",
      "5359/5359 [==============================] - 2s 288us/step - loss: 0.3183 - accuracy: 0.8662 - val_loss: 0.3798 - val_accuracy: 0.8489\n",
      "Epoch 52/100\n",
      "5359/5359 [==============================] - 2s 286us/step - loss: 0.3186 - accuracy: 0.8662 - val_loss: 0.3706 - val_accuracy: 0.8538\n",
      "Epoch 53/100\n",
      "5359/5359 [==============================] - 2s 294us/step - loss: 0.3183 - accuracy: 0.8647 - val_loss: 0.3939 - val_accuracy: 0.8542\n",
      "Epoch 54/100\n",
      "5359/5359 [==============================] - 2s 292us/step - loss: 0.3211 - accuracy: 0.8647 - val_loss: 0.3711 - val_accuracy: 0.8493\n",
      "Epoch 55/100\n",
      "5359/5359 [==============================] - 2s 286us/step - loss: 0.3171 - accuracy: 0.8662 - val_loss: 0.3894 - val_accuracy: 0.8485\n",
      "Epoch 56/100\n"
     ]
    },
    {
     "name": "stdout",
     "output_type": "stream",
     "text": [
      "5359/5359 [==============================] - 1s 274us/step - loss: 0.3178 - accuracy: 0.8645 - val_loss: 0.4007 - val_accuracy: 0.8527\n",
      "Epoch 57/100\n",
      "5359/5359 [==============================] - 1s 273us/step - loss: 0.3167 - accuracy: 0.8679 - val_loss: 0.3736 - val_accuracy: 0.8504\n",
      "Epoch 58/100\n",
      "5359/5359 [==============================] - 1s 275us/step - loss: 0.3173 - accuracy: 0.8656 - val_loss: 0.3879 - val_accuracy: 0.8531\n",
      "Epoch 59/100\n",
      "5359/5359 [==============================] - 1s 271us/step - loss: 0.3169 - accuracy: 0.8630 - val_loss: 0.3875 - val_accuracy: 0.8531\n",
      "Epoch 60/100\n",
      "5359/5359 [==============================] - 1s 275us/step - loss: 0.3163 - accuracy: 0.8664 - val_loss: 0.3733 - val_accuracy: 0.8516\n",
      "Epoch 61/100\n",
      "5359/5359 [==============================] - 2s 343us/step - loss: 0.3163 - accuracy: 0.8640 - val_loss: 0.3906 - val_accuracy: 0.8531\n",
      "Epoch 62/100\n",
      "5359/5359 [==============================] - 2s 342us/step - loss: 0.3168 - accuracy: 0.8658 - val_loss: 0.3709 - val_accuracy: 0.8527\n",
      "Epoch 63/100\n",
      "5359/5359 [==============================] - 2s 301us/step - loss: 0.3156 - accuracy: 0.8643 - val_loss: 0.3998 - val_accuracy: 0.8531\n",
      "Epoch 64/100\n",
      "5359/5359 [==============================] - 2s 346us/step - loss: 0.3168 - accuracy: 0.8671 - val_loss: 0.4079 - val_accuracy: 0.8531\n",
      "Epoch 65/100\n",
      "5359/5359 [==============================] - 2s 403us/step - loss: 0.3176 - accuracy: 0.8677 - val_loss: 0.3844 - val_accuracy: 0.8542\n",
      "Epoch 66/100\n",
      "5359/5359 [==============================] - 2s 297us/step - loss: 0.3158 - accuracy: 0.8673 - val_loss: 0.3921 - val_accuracy: 0.8531\n",
      "Epoch 67/100\n",
      "5359/5359 [==============================] - 2s 283us/step - loss: 0.3161 - accuracy: 0.8681 - val_loss: 0.3840 - val_accuracy: 0.8535\n",
      "Epoch 68/100\n",
      "5359/5359 [==============================] - 2s 282us/step - loss: 0.3159 - accuracy: 0.8653 - val_loss: 0.3929 - val_accuracy: 0.8519\n",
      "Epoch 69/100\n",
      "5359/5359 [==============================] - 2s 283us/step - loss: 0.3177 - accuracy: 0.8666 - val_loss: 0.3695 - val_accuracy: 0.8542\n",
      "Epoch 70/100\n",
      "5359/5359 [==============================] - 2s 287us/step - loss: 0.3153 - accuracy: 0.8643 - val_loss: 0.3814 - val_accuracy: 0.8538\n",
      "Epoch 71/100\n",
      "5359/5359 [==============================] - 2s 333us/step - loss: 0.3165 - accuracy: 0.8660 - val_loss: 0.3872 - val_accuracy: 0.8516\n",
      "Epoch 72/100\n",
      "5359/5359 [==============================] - 2s 397us/step - loss: 0.3156 - accuracy: 0.8662 - val_loss: 0.3983 - val_accuracy: 0.8535\n",
      "Epoch 73/100\n",
      "5359/5359 [==============================] - 2s 362us/step - loss: 0.3158 - accuracy: 0.8658 - val_loss: 0.3830 - val_accuracy: 0.8535\n",
      "Epoch 74/100\n",
      "5359/5359 [==============================] - 2s 302us/step - loss: 0.3165 - accuracy: 0.8673 - val_loss: 0.3797 - val_accuracy: 0.8542\n",
      "Epoch 75/100\n",
      "5359/5359 [==============================] - 2s 372us/step - loss: 0.3154 - accuracy: 0.8653 - val_loss: 0.3934 - val_accuracy: 0.8550\n",
      "Epoch 76/100\n",
      "5359/5359 [==============================] - 2s 402us/step - loss: 0.3146 - accuracy: 0.8692 - val_loss: 0.4045 - val_accuracy: 0.8557\n",
      "Epoch 77/100\n",
      "5359/5359 [==============================] - 2s 285us/step - loss: 0.3155 - accuracy: 0.8675 - val_loss: 0.4040 - val_accuracy: 0.8527\n",
      "Epoch 78/100\n",
      "5359/5359 [==============================] - 2s 285us/step - loss: 0.3166 - accuracy: 0.8666 - val_loss: 0.4092 - val_accuracy: 0.8493\n",
      "Epoch 79/100\n",
      "5359/5359 [==============================] - 2s 285us/step - loss: 0.3149 - accuracy: 0.8673 - val_loss: 0.3982 - val_accuracy: 0.8531\n",
      "Epoch 80/100\n",
      "5359/5359 [==============================] - 2s 287us/step - loss: 0.3156 - accuracy: 0.8664 - val_loss: 0.4047 - val_accuracy: 0.8523\n",
      "Epoch 81/100\n",
      "5359/5359 [==============================] - 2s 310us/step - loss: 0.3166 - accuracy: 0.8670 - val_loss: 0.4017 - val_accuracy: 0.8550\n",
      "Epoch 82/100\n",
      "5359/5359 [==============================] - 2s 283us/step - loss: 0.3146 - accuracy: 0.8673 - val_loss: 0.4062 - val_accuracy: 0.8542\n",
      "Epoch 83/100\n",
      "5359/5359 [==============================] - 2s 284us/step - loss: 0.3160 - accuracy: 0.8670 - val_loss: 0.3700 - val_accuracy: 0.8546\n",
      "Epoch 84/100\n",
      "5359/5359 [==============================] - 2s 284us/step - loss: 0.3147 - accuracy: 0.8655 - val_loss: 0.4073 - val_accuracy: 0.8538\n",
      "Epoch 85/100\n",
      "5359/5359 [==============================] - 2s 281us/step - loss: 0.3162 - accuracy: 0.8673 - val_loss: 0.3763 - val_accuracy: 0.8542\n",
      "Epoch 86/100\n",
      "5359/5359 [==============================] - 2s 281us/step - loss: 0.3145 - accuracy: 0.8673 - val_loss: 0.3740 - val_accuracy: 0.8546\n",
      "Epoch 87/100\n",
      "5359/5359 [==============================] - 2s 284us/step - loss: 0.3170 - accuracy: 0.8677 - val_loss: 0.3903 - val_accuracy: 0.8538\n",
      "Epoch 88/100\n",
      "5359/5359 [==============================] - 2s 313us/step - loss: 0.3148 - accuracy: 0.8679 - val_loss: 0.3700 - val_accuracy: 0.8538\n",
      "Epoch 89/100\n",
      "5359/5359 [==============================] - 2s 316us/step - loss: 0.3153 - accuracy: 0.8666 - val_loss: 0.3837 - val_accuracy: 0.8493\n",
      "Epoch 90/100\n",
      "5359/5359 [==============================] - 2s 283us/step - loss: 0.3147 - accuracy: 0.8698 - val_loss: 0.4078 - val_accuracy: 0.8531\n",
      "Epoch 91/100\n",
      "5359/5359 [==============================] - 2s 330us/step - loss: 0.3128 - accuracy: 0.8673 - val_loss: 0.4046 - val_accuracy: 0.8550\n",
      "Epoch 92/100\n",
      "5359/5359 [==============================] - 2s 320us/step - loss: 0.3136 - accuracy: 0.8692 - val_loss: 0.4036 - val_accuracy: 0.8542\n",
      "Epoch 93/100\n",
      "5359/5359 [==============================] - 2s 319us/step - loss: 0.3129 - accuracy: 0.8688 - val_loss: 0.4013 - val_accuracy: 0.8523\n",
      "Epoch 94/100\n",
      "5359/5359 [==============================] - 2s 320us/step - loss: 0.3138 - accuracy: 0.8673 - val_loss: 0.4009 - val_accuracy: 0.8531\n",
      "Epoch 95/100\n",
      "5359/5359 [==============================] - 2s 319us/step - loss: 0.3203 - accuracy: 0.8705 - val_loss: 0.3725 - val_accuracy: 0.8482\n",
      "Epoch 96/100\n",
      "5359/5359 [==============================] - 2s 300us/step - loss: 0.3157 - accuracy: 0.8664 - val_loss: 0.3702 - val_accuracy: 0.8542\n",
      "Epoch 97/100\n",
      "5359/5359 [==============================] - 2s 293us/step - loss: 0.3138 - accuracy: 0.8666 - val_loss: 0.3762 - val_accuracy: 0.8561\n",
      "Epoch 98/100\n",
      "5359/5359 [==============================] - 2s 285us/step - loss: 0.3133 - accuracy: 0.8668 - val_loss: 0.3960 - val_accuracy: 0.8546\n",
      "Epoch 99/100\n",
      "5359/5359 [==============================] - 2s 295us/step - loss: 0.3118 - accuracy: 0.8684 - val_loss: 0.3967 - val_accuracy: 0.8489\n",
      "Epoch 100/100\n",
      "5359/5359 [==============================] - 2s 314us/step - loss: 0.3124 - accuracy: 0.8664 - val_loss: 0.4075 - val_accuracy: 0.8508\n"
     ]
    }
   ],
   "source": [
    "model_history= clasifier.fit(X_train, Y_train, validation_split=0.33, batch_size=10,epochs=100)"
   ]
  },
  {
   "cell_type": "code",
   "execution_count": 90,
   "metadata": {},
   "outputs": [
    {
     "name": "stdout",
     "output_type": "stream",
     "text": [
      "dict_keys(['val_loss', 'val_accuracy', 'loss', 'accuracy'])\n"
     ]
    }
   ],
   "source": [
    "print(model_history.history.keys())"
   ]
  },
  {
   "cell_type": "code",
   "execution_count": 108,
   "metadata": {},
   "outputs": [],
   "source": [
    "y_pred= clasifier.predict(X_test)\n",
    "y_pred= (y_pred> 0.5)"
   ]
  },
  {
   "cell_type": "code",
   "execution_count": 109,
   "metadata": {},
   "outputs": [
    {
     "data": {
      "text/plain": [
       "array([[False],\n",
       "       [False],\n",
       "       [False],\n",
       "       ...,\n",
       "       [False],\n",
       "       [False],\n",
       "       [False]])"
      ]
     },
     "execution_count": 109,
     "metadata": {},
     "output_type": "execute_result"
    }
   ],
   "source": [
    "y_pred"
   ]
  },
  {
   "cell_type": "code",
   "execution_count": 110,
   "metadata": {},
   "outputs": [
    {
     "data": {
      "text/plain": [
       "array([[1514,   81],\n",
       "       [ 203,  202]])"
      ]
     },
     "execution_count": 110,
     "metadata": {},
     "output_type": "execute_result"
    }
   ],
   "source": [
    "from sklearn.metrics import confusion_matrix\n",
    "cm= confusion_matrix(Y_test,y_pred)\n",
    "cm"
   ]
  },
  {
   "cell_type": "code",
   "execution_count": 111,
   "metadata": {},
   "outputs": [
    {
     "data": {
      "text/plain": [
       "0.858"
      ]
     },
     "execution_count": 111,
     "metadata": {},
     "output_type": "execute_result"
    }
   ],
   "source": [
    "from sklearn.metrics import accuracy_score\n",
    "ac= accuracy_score(Y_test,y_pred)\n",
    "ac"
   ]
  },
  {
   "cell_type": "code",
   "execution_count": 116,
   "metadata": {},
   "outputs": [
    {
     "name": "stdout",
     "output_type": "stream",
     "text": [
      "dict_keys(['val_loss', 'val_accuracy', 'loss', 'accuracy'])\n"
     ]
    }
   ],
   "source": [
    "print(model_history.history.keys())"
   ]
  },
  {
   "cell_type": "code",
   "execution_count": 115,
   "metadata": {},
   "outputs": [
    {
     "data": {
      "image/png": "[encoded data removed]",
      "text/plain": [
       "<Figure size 432x288 with 1 Axes>"
      ]
     },
     "metadata": {
      "needs_background": "light"
     },
     "output_type": "display_data"
    }
   ],
   "source": [
    "plt.plot(model_history.history['loss'])\n",
    "plt.plot(model_history.history['val_loss'])\n",
    "plt.title('model loss')\n",
    "plt.ylabel('loss')\n",
    "plt.xlabel('epoch')\n",
    "plt.legend(['train', 'test'], loc='upper left')\n",
    "plt.show()\n"
   ]
  },
  {
   "cell_type": "code",
   "execution_count": 120,
   "metadata": {},
   "outputs": [
    {
     "data": {
      "image/png": "[encoded data removed]",
      "text/plain": [
       "<Figure size 432x288 with 1 Axes>"
      ]
     },
     "metadata": {
      "needs_background": "light"
     },
     "output_type": "display_data"
    }
   ],
   "source": [
    "plt.plot(model_history.history['accuracy'])\n",
    "plt.plot(model_history.history['val_accuracy'])\n",
    "plt.title('model accuracy')\n",
    "plt.ylabel('accuracy')\n",
    "plt.xlabel('epoch')\n",
    "plt.legend(['train', 'test'], loc= 'upper left')\n",
    "plt.show()"
   ]
  },
  {
   "cell_type": "code",
   "execution_count": 128,
   "metadata": {},
   "outputs": [
    {
     "data": {
      "text/plain": [
       "array([[0.276391  ],\n",
       "       [0.22780368],\n",
       "       [1.0077403 ],\n",
       "       ...,\n",
       "       [0.25042725],\n",
       "       [0.20364541],\n",
       "       [0.06954916]], dtype=float32)"
      ]
     },
     "execution_count": 128,
     "metadata": {},
     "output_type": "execute_result"
    }
   ],
   "source": [
    "result = clasifier.predict(scaler.transform(X))\n",
    "result"
   ]
  },
  {
   "cell_type": "code",
   "execution_count": 129,
   "metadata": {
    "scrolled": true
   },
   "outputs": [],
   "source": [
    "arr= result.flatten()"
   ]
  },
  {
   "cell_type": "code",
   "execution_count": 130,
   "metadata": {},
   "outputs": [],
   "source": [
    "df['rating']= arr"
   ]
  },
  {
   "cell_type": "code",
   "execution_count": 133,
   "metadata": {},
   "outputs": [
    {
     "data": {
      "text/html": [
       "<div>\n",
       "<style scoped>\n",
       "    .dataframe tbody tr th:only-of-type {\n",
       "        vertical-align: middle;\n",
       "    }\n",
       "\n",
       "    .dataframe tbody tr th {\n",
       "        vertical-align: top;\n",
       "    }\n",
       "\n",
       "    .dataframe thead th {\n",
       "        text-align: right;\n",
       "    }\n",
       "</style>\n",
       "<table border=\"1\" class=\"dataframe\">\n",
       "  <thead>\n",
       "    <tr style=\"text-align: right;\">\n",
       "      <th></th>\n",
       "      <th>RowNumber</th>\n",
       "      <th>CustomerId</th>\n",
       "      <th>Surname</th>\n",
       "      <th>CreditScore</th>\n",
       "      <th>Geography</th>\n",
       "      <th>Gender</th>\n",
       "      <th>Age</th>\n",
       "      <th>Tenure</th>\n",
       "      <th>Balance</th>\n",
       "      <th>NumOfProducts</th>\n",
       "      <th>HasCrCard</th>\n",
       "      <th>IsActiveMember</th>\n",
       "      <th>EstimatedSalary</th>\n",
       "      <th>Exited</th>\n",
       "      <th>rating</th>\n",
       "    </tr>\n",
       "  </thead>\n",
       "  <tbody>\n",
       "    <tr>\n",
       "      <th>8322</th>\n",
       "      <td>8323</td>\n",
       "      <td>15584899</td>\n",
       "      <td>Siciliani</td>\n",
       "      <td>617</td>\n",
       "      <td>France</td>\n",
       "      <td>Female</td>\n",
       "      <td>35</td>\n",
       "      <td>5</td>\n",
       "      <td>0.0</td>\n",
       "      <td>2</td>\n",
       "      <td>0</td>\n",
       "      <td>1</td>\n",
       "      <td>13066.30</td>\n",
       "      <td>0</td>\n",
       "      <td>0.018636</td>\n",
       "    </tr>\n",
       "    <tr>\n",
       "      <th>2538</th>\n",
       "      <td>2539</td>\n",
       "      <td>15752838</td>\n",
       "      <td>Lucas</td>\n",
       "      <td>723</td>\n",
       "      <td>Spain</td>\n",
       "      <td>Male</td>\n",
       "      <td>38</td>\n",
       "      <td>6</td>\n",
       "      <td>0.0</td>\n",
       "      <td>2</td>\n",
       "      <td>1</td>\n",
       "      <td>1</td>\n",
       "      <td>94415.60</td>\n",
       "      <td>0</td>\n",
       "      <td>0.018637</td>\n",
       "    </tr>\n",
       "    <tr>\n",
       "      <th>5862</th>\n",
       "      <td>5863</td>\n",
       "      <td>15656484</td>\n",
       "      <td>Woods</td>\n",
       "      <td>682</td>\n",
       "      <td>France</td>\n",
       "      <td>Male</td>\n",
       "      <td>40</td>\n",
       "      <td>4</td>\n",
       "      <td>0.0</td>\n",
       "      <td>2</td>\n",
       "      <td>1</td>\n",
       "      <td>1</td>\n",
       "      <td>140745.91</td>\n",
       "      <td>0</td>\n",
       "      <td>0.018637</td>\n",
       "    </tr>\n",
       "    <tr>\n",
       "      <th>1464</th>\n",
       "      <td>1465</td>\n",
       "      <td>15595067</td>\n",
       "      <td>Zhirov</td>\n",
       "      <td>637</td>\n",
       "      <td>Spain</td>\n",
       "      <td>Female</td>\n",
       "      <td>40</td>\n",
       "      <td>6</td>\n",
       "      <td>0.0</td>\n",
       "      <td>2</td>\n",
       "      <td>1</td>\n",
       "      <td>1</td>\n",
       "      <td>181610.60</td>\n",
       "      <td>0</td>\n",
       "      <td>0.018637</td>\n",
       "    </tr>\n",
       "    <tr>\n",
       "      <th>5554</th>\n",
       "      <td>5555</td>\n",
       "      <td>15784218</td>\n",
       "      <td>Mason</td>\n",
       "      <td>620</td>\n",
       "      <td>Spain</td>\n",
       "      <td>Male</td>\n",
       "      <td>38</td>\n",
       "      <td>0</td>\n",
       "      <td>0.0</td>\n",
       "      <td>2</td>\n",
       "      <td>1</td>\n",
       "      <td>1</td>\n",
       "      <td>38015.34</td>\n",
       "      <td>0</td>\n",
       "      <td>0.018637</td>\n",
       "    </tr>\n",
       "    <tr>\n",
       "      <th>7006</th>\n",
       "      <td>7007</td>\n",
       "      <td>15660390</td>\n",
       "      <td>Boyle</td>\n",
       "      <td>544</td>\n",
       "      <td>France</td>\n",
       "      <td>Female</td>\n",
       "      <td>33</td>\n",
       "      <td>6</td>\n",
       "      <td>0.0</td>\n",
       "      <td>2</td>\n",
       "      <td>1</td>\n",
       "      <td>1</td>\n",
       "      <td>124113.04</td>\n",
       "      <td>0</td>\n",
       "      <td>0.018638</td>\n",
       "    </tr>\n",
       "    <tr>\n",
       "      <th>6990</th>\n",
       "      <td>6991</td>\n",
       "      <td>15648725</td>\n",
       "      <td>Sinclair</td>\n",
       "      <td>660</td>\n",
       "      <td>France</td>\n",
       "      <td>Male</td>\n",
       "      <td>41</td>\n",
       "      <td>3</td>\n",
       "      <td>0.0</td>\n",
       "      <td>2</td>\n",
       "      <td>1</td>\n",
       "      <td>1</td>\n",
       "      <td>108665.89</td>\n",
       "      <td>0</td>\n",
       "      <td>0.018638</td>\n",
       "    </tr>\n",
       "    <tr>\n",
       "      <th>4379</th>\n",
       "      <td>4380</td>\n",
       "      <td>15808831</td>\n",
       "      <td>Dale</td>\n",
       "      <td>669</td>\n",
       "      <td>France</td>\n",
       "      <td>Male</td>\n",
       "      <td>29</td>\n",
       "      <td>7</td>\n",
       "      <td>0.0</td>\n",
       "      <td>2</td>\n",
       "      <td>1</td>\n",
       "      <td>1</td>\n",
       "      <td>138145.62</td>\n",
       "      <td>0</td>\n",
       "      <td>0.018638</td>\n",
       "    </tr>\n",
       "    <tr>\n",
       "      <th>5951</th>\n",
       "      <td>5952</td>\n",
       "      <td>15590637</td>\n",
       "      <td>Ahmed</td>\n",
       "      <td>721</td>\n",
       "      <td>France</td>\n",
       "      <td>Male</td>\n",
       "      <td>41</td>\n",
       "      <td>7</td>\n",
       "      <td>0.0</td>\n",
       "      <td>2</td>\n",
       "      <td>0</td>\n",
       "      <td>1</td>\n",
       "      <td>61018.85</td>\n",
       "      <td>0</td>\n",
       "      <td>0.018638</td>\n",
       "    </tr>\n",
       "    <tr>\n",
       "      <th>5714</th>\n",
       "      <td>5715</td>\n",
       "      <td>15604158</td>\n",
       "      <td>Smith</td>\n",
       "      <td>554</td>\n",
       "      <td>France</td>\n",
       "      <td>Female</td>\n",
       "      <td>39</td>\n",
       "      <td>10</td>\n",
       "      <td>0.0</td>\n",
       "      <td>2</td>\n",
       "      <td>1</td>\n",
       "      <td>1</td>\n",
       "      <td>18391.93</td>\n",
       "      <td>0</td>\n",
       "      <td>0.018639</td>\n",
       "    </tr>\n",
       "  </tbody>\n",
       "</table>\n",
       "</div>"
      ],
      "text/plain": [
       "      RowNumber  CustomerId    Surname  CreditScore Geography  Gender  Age  \\\n",
       "8322       8323    15584899  Siciliani          617    France  Female   35   \n",
       "2538       2539    15752838      Lucas          723     Spain    Male   38   \n",
       "5862       5863    15656484      Woods          682    France    Male   40   \n",
       "1464       1465    15595067     Zhirov          637     Spain  Female   40   \n",
       "5554       5555    15784218      Mason          620     Spain    Male   38   \n",
       "7006       7007    15660390      Boyle          544    France  Female   33   \n",
       "6990       6991    15648725   Sinclair          660    France    Male   41   \n",
       "4379       4380    15808831       Dale          669    France    Male   29   \n",
       "5951       5952    15590637      Ahmed          721    France    Male   41   \n",
       "5714       5715    15604158      Smith          554    France  Female   39   \n",
       "\n",
       "      Tenure  Balance  NumOfProducts  HasCrCard  IsActiveMember  \\\n",
       "8322       5      0.0              2          0               1   \n",
       "2538       6      0.0              2          1               1   \n",
       "5862       4      0.0              2          1               1   \n",
       "1464       6      0.0              2          1               1   \n",
       "5554       0      0.0              2          1               1   \n",
       "7006       6      0.0              2          1               1   \n",
       "6990       3      0.0              2          1               1   \n",
       "4379       7      0.0              2          1               1   \n",
       "5951       7      0.0              2          0               1   \n",
       "5714      10      0.0              2          1               1   \n",
       "\n",
       "      EstimatedSalary  Exited    rating  \n",
       "8322         13066.30       0  0.018636  \n",
       "2538         94415.60       0  0.018637  \n",
       "5862        140745.91       0  0.018637  \n",
       "1464        181610.60       0  0.018637  \n",
       "5554         38015.34       0  0.018637  \n",
       "7006        124113.04       0  0.018638  \n",
       "6990        108665.89       0  0.018638  \n",
       "4379        138145.62       0  0.018638  \n",
       "5951         61018.85       0  0.018638  \n",
       "5714         18391.93       0  0.018639  "
      ]
     },
     "execution_count": 133,
     "metadata": {},
     "output_type": "execute_result"
    }
   ],
   "source": [
    "df.sort_values('rating',ascending=True).head(10)"
   ]
  },
  {
   "cell_type": "code",
   "execution_count": null,
   "metadata": {},
   "outputs": [],
   "source": []
  }
 ],
 "metadata": {
  "kernelspec": {
   "display_name": "Python 3",
   "language": "python",
   "name": "python3"
  },
  "language_info": {
   "codemirror_mode": {
    "name": "ipython",
    "version": 3
   },
   "file_extension": ".py",
   "mimetype": "text/x-python",
   "name": "python",
   "nbconvert_exporter": "python",
   "pygments_lexer": "ipython3",
   "version": "3.7.3"
  }
 },
 "nbformat": 4,
 "nbformat_minor": 2
}
